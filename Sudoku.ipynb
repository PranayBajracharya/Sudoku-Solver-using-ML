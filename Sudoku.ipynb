{
 "cells": [
  {
   "cell_type": "code",
   "execution_count": 1,
   "metadata": {},
   "outputs": [],
   "source": [
    "import cv2\n",
    "import numpy as np\n",
    "from tensorflow.keras.models import load_model\n",
    "import tensorflow as tf\n",
    "import matplotlib.pyplot as plt"
   ]
  },
  {
   "cell_type": "code",
   "execution_count": 220,
   "metadata": {},
   "outputs": [],
   "source": [
    "model = load_model('Model/myModel.h5')"
   ]
  },
  {
   "cell_type": "code",
   "execution_count": 222,
   "metadata": {},
   "outputs": [],
   "source": [
    "full_img = cv2.imread(\"img/Sudoku.png\")\n",
    "full_img = cv2.resize(full_img, (450,450), interpolation= cv2.INTER_AREA)\n",
    "height, width, channels = full_img.shape"
   ]
  },
  {
   "cell_type": "code",
   "execution_count": 5,
   "metadata": {},
   "outputs": [
    {
     "name": "stdout",
     "output_type": "stream",
     "text": [
      "5 3 0 0 7 0 0 0 0 \n",
      "\n",
      "6 0 0 1 9 5 0 0 0 \n",
      "\n",
      "0 9 8 0 0 0 0 6 0 \n",
      "\n",
      "8 0 0 0 6 0 0 0 3 \n",
      "\n",
      "4 0 0 8 0 3 0 0 1 \n",
      "\n",
      "7 0 0 0 2 0 0 0 6 \n",
      "\n",
      "0 6 0 0 0 0 2 8 0 \n",
      "\n",
      "0 0 0 4 1 9 0 0 5 \n",
      "\n",
      "0 0 0 0 8 0 0 7 9 \n",
      "\n"
     ]
    }
   ],
   "source": [
    "a = 5\n",
    "for i in range(9):\n",
    "    for j in range(9):\n",
    "        x1, y1 = int(width * j / 9 + a), int(height * i / 9 + a)\n",
    "        x2, y2 = int(width * (j + 1) / 9 - a), int(height * (i + 1) / 9 - a)\n",
    "        img = full_img[y1:(y2 + 1), x1:(x2 + 1)]\n",
    "        \n",
    "        gray = cv2.cvtColor(img, cv2.COLOR_BGR2GRAY)\n",
    "        resized = cv2.resize(gray, (28,28), interpolation= cv2.INTER_AREA)\n",
    "        newimg = tf.keras.utils.normalize(resized, axis=1)\n",
    "        newimg = np.array(newimg).reshape(-1, 28, 28, 1)\n",
    "\n",
    "        predictas = model.predict(newimg)\n",
    "        print(np.argmax(predictas), end = ' ')\n",
    "    print(\"\\n\")"
   ]
  },
  {
   "cell_type": "code",
   "execution_count": 223,
   "metadata": {},
   "outputs": [
    {
     "data": {
      "text/plain": [
       "<matplotlib.image.AxesImage at 0x1e7992b5d90>"
      ]
     },
     "execution_count": 223,
     "metadata": {},
     "output_type": "execute_result"
    },
    {
     "data": {
      "image/png": "[encoded data removed]",
      "text/plain": [
       "<Figure size 432x288 with 1 Axes>"
      ]
     },
     "metadata": {
      "needs_background": "light"
     },
     "output_type": "display_data"
    }
   ],
   "source": [
    "plt.imshow(full_img)"
   ]
  },
  {
   "cell_type": "markdown",
   "metadata": {},
   "source": [
    "# use a=5 for big font size and a=12 for small font size"
   ]
  },
  {
   "cell_type": "code",
   "execution_count": 224,
   "metadata": {},
   "outputs": [
    {
     "name": "stdout",
     "output_type": "stream",
     "text": [
      "[[5 3 0 0 7 0 0 0 0]\n",
      " [6 0 0 1 9 5 0 0 0]\n",
      " [0 9 8 0 0 0 0 6 0]\n",
      " [8 0 0 0 6 0 0 0 3]\n",
      " [4 0 0 8 0 3 0 0 1]\n",
      " [7 0 0 0 2 0 0 0 6]\n",
      " [0 6 0 0 0 0 2 8 0]\n",
      " [0 0 0 4 1 9 0 0 5]\n",
      " [0 0 0 0 8 0 0 7 9]]\n"
     ]
    }
   ],
   "source": [
    "board = np.array([])\n",
    "a = 5   \n",
    "for i in range(9):\n",
    "    row = np.array([])\n",
    "    for j in range(9):\n",
    "        x1, y1 = int(width * j / 9 + a), int(height * i / 9 + a)\n",
    "        x2, y2 = int(width * (j + 1) / 9 - a), int(height * (i + 1) / 9 - a)\n",
    "        img = full_img[y1:(y2 + 1), x1:(x2 + 1)]\n",
    "        \n",
    "        gray = cv2.cvtColor(img, cv2.COLOR_BGR2GRAY)\n",
    "        resized = cv2.resize(gray, (28,28), interpolation= cv2.INTER_AREA)\n",
    "        newimg = tf.keras.utils.normalize(resized, axis=1)\n",
    "        newimg = np.array(newimg).reshape(-1, 28, 28, 1)\n",
    "\n",
    "        predictas = model.predict(newimg)\n",
    "        row = np.append(row, np.argmax(predictas))\n",
    "    board = np.append(board, row).astype('int32')\n",
    "    board = board.reshape(9,-1)\n",
    "print(board)"
   ]
  },
  {
   "cell_type": "code",
   "execution_count": 225,
   "metadata": {},
   "outputs": [],
   "source": [
    "def valid(x, y, n):\n",
    "    for i in range(9):\n",
    "        if board[x][i] == n:\n",
    "            return False\n",
    "    for i in range(9):\n",
    "        if board[i][y] == n:\n",
    "            return False\n",
    "    x0 = (x//3)*3\n",
    "    y0 = (y//3)*3\n",
    "    for i in range(3):\n",
    "        for j in range(3):\n",
    "            if board[x0+i][y0+j] == n:\n",
    "                return False\n",
    "    return True"
   ]
  },
  {
   "cell_type": "code",
   "execution_count": 226,
   "metadata": {},
   "outputs": [],
   "source": [
    "def solve():\n",
    "    for i in range(9):\n",
    "        for j in range(9):\n",
    "            if board[i][j]==0:\n",
    "                for n in range(1,10):\n",
    "                    if valid(i,j,n):\n",
    "                        board[i][j]=n\n",
    "                        solve()\n",
    "                        board[i][j]=0\n",
    "                return\n",
    "    print(board)   "
   ]
  },
  {
   "cell_type": "code",
   "execution_count": 227,
   "metadata": {},
   "outputs": [
    {
     "name": "stdout",
     "output_type": "stream",
     "text": [
      "[[5 3 4 6 7 8 9 1 2]\n",
      " [6 7 2 1 9 5 3 4 8]\n",
      " [1 9 8 3 4 2 5 6 7]\n",
      " [8 5 9 7 6 1 4 2 3]\n",
      " [4 2 6 8 5 3 7 9 1]\n",
      " [7 1 3 9 2 4 8 5 6]\n",
      " [9 6 1 5 3 7 2 8 4]\n",
      " [2 8 7 4 1 9 6 3 5]\n",
      " [3 4 5 2 8 6 1 7 9]]\n"
     ]
    }
   ],
   "source": [
    "solve()"
   ]
  },
  {
   "cell_type": "code",
   "execution_count": null,
   "metadata": {},
   "outputs": [],
   "source": []
  }
 ],
 "metadata": {
  "kernelspec": {
   "display_name": "Python 3",
   "language": "python",
   "name": "python3"
  },
  "language_info": {
   "codemirror_mode": {
    "name": "ipython",
    "version": 3
   },
   "file_extension": ".py",
   "mimetype": "text/x-python",
   "name": "python",
   "nbconvert_exporter": "python",
   "pygments_lexer": "ipython3",
   "version": "3.8.3"
  }
 },
 "nbformat": 4,
 "nbformat_minor": 4
}
